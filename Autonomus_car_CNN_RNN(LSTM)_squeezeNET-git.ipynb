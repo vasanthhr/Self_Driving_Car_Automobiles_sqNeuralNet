{
 "cells": [
  {
   "cell_type": "raw",
   "metadata": {},
   "source": [
    "The below code shows the neural networks, which involves Convolutional Neural Networks(CNN) and Last layer of Recurrent Neural Network(RNN). \n",
    "\n",
    "Here, the Convolutional Neural Networks process the input frames/images and send back to Recurrent Neural Network. \n",
    "@Courtesy : NVIDIA  (The Model structure)\n",
    "\n",
    "I gave code here and it’s a foundation to achieve self-driving car/automobiles or autonomous car/automobile.\n",
    "\n",
    "\n",
    "But I haven’t posted my another modules here that has more hidden layers and multi LSTMs (complete Deep Learning and Self/Auto learning). \n",
    "\n",
    "I can support/guide you if you want work on this Deep Learning and Self/Auto learning process.\n",
    "\n"
   ]
  },
  {
   "cell_type": "code",
   "execution_count": 2,
   "metadata": {
    "collapsed": true
   },
   "outputs": [],
   "source": [
    "def squeezNet(inpt, squeeze=16, output=64):\n",
    "    \n",
    "    inpt= Convolution2D(squeeze, (1,1), padding='valid')(inpt)\n",
    "    inpt= Activation('relu')(inpt)\n",
    "    \n",
    "    left= Convolution2D(output, (1,1), padding='valid')(inpt)\n",
    "    left = Activation('relu')(left)\n",
    "    \n",
    "    right= Convolution2D(output, (3,3), padding='same')(inpt)\n",
    "    right = Activation('relu')(right)\n",
    "    \n",
    "    inpt= concatenate([left, right], axis=3)\n",
    "    return x\n",
    "\n"
   ]
  },
  {
   "cell_type": "code",
   "execution_count": 3,
   "metadata": {
    "collapsed": true
   },
   "outputs": [],
   "source": [
    "image_size =Input(shape=(196,455,3))\n",
    "\n",
    "x = Convolution2D(64, (3, 3), strides=(2, 2), padding='valid')(image_size)\n",
    "x = Activation('relu')(x)\n",
    "x = MaxPooling2D(pool_size=(3, 3), strides=(2, 2))(x)\n",
    "\n",
    "x = squeezNet(x, squeeze=16, output=16)\n",
    "x = squeezNet(x, squeeze=16, output=16)\n",
    "x = MaxPooling2D(pool_size=(3, 3), strides=(2, 2))(x)\n",
    "\n",
    "x = squeezNet(x, squeeze=32, output=32)\n",
    "x = squeezNet(x, squeeze=32, output=32)\n",
    "x = MaxPooling2D(pool_size=(3, 3), strides=(2, 2))(x)\n",
    "\n",
    "x = squeezNet(x, squeeze=48, output=48)\n",
    "x = squeezNet(x, squeeze=48, output=48)\n",
    "x = squeezNet(x, squeeze=64, output=64)\n",
    "x = squeezNet(x, squeeze=64, output=64)\n",
    "x = Dropout(0.5)(x)\n",
    "\n",
    "x = Convolution2D(5, (1, 1), padding='valid')(x)\n",
    "x = Activation('relu')(x)\n",
    "x=Flatten()(x)\n",
    "\n",
    "x=Dense(1)(x)\n",
    "\n",
    "out = Activation('linear')(x)\n",
    "\n",
    "mod_squeezNet= Model(image_size, out)"
   ]
  },
  {
   "cell_type": "code",
   "execution_count": 4,
   "metadata": {},
   "outputs": [
    {
     "name": "stdout",
     "output_type": "stream",
     "text": [
      "define the model !!\n"
     ]
    }
   ],
   "source": [
    "opt= Adam(lr=.0001)\n",
    "mod_squeezNet.compile(optimizer=opt, loss='mse', metrics=['accuracy'])\n",
    "\n",
    "print(\"define the model !!\")"
   ]
  },
  {
   "cell_type": "code",
   "execution_count": 5,
   "metadata": {},
   "outputs": [
    {
     "name": "stdout",
     "output_type": "stream",
     "text": [
      "Epoch 1/10\n",
      "496/496 [==============================] - 753s 2s/step - loss: 6497.5718 - acc: 0.0018 - val_loss: 8210.0683 - val_acc: 0.0890\n",
      "Epoch 2/10\n",
      "496/496 [==============================] - 743s 1s/step - loss: 6171.9597 - acc: 8.0645e-04 - val_loss: 7796.5584 - val_acc: 0.0760\n",
      "Epoch 3/10\n",
      "496/496 [==============================] - 739s 1s/step - loss: 5860.6646 - acc: 0.0016 - val_loss: 7229.8136 - val_acc: 0.0000e+00\n",
      "Epoch 4/10\n",
      "496/496 [==============================] - 708s 1s/step - loss: 5319.5748 - acc: 0.0010 - val_loss: 6670.3225 - val_acc: 0.0000e+00\n",
      "Epoch 5/10\n",
      "496/496 [==============================] - 698s 1s/step - loss: 4661.9066 - acc: 0.0017 - val_loss: 5896.6365 - val_acc: 0.0000e+00\n",
      "Epoch 6/10\n",
      "496/496 [==============================] - 702s 1s/step - loss: 4122.7903 - acc: 0.0012 - val_loss: 4319.8000 - val_acc: 0.0000e+00\n",
      "Epoch 7/10\n",
      "496/496 [==============================] - 718s 1s/step - loss: 3649.8322 - acc: 0.0017 - val_loss: 4535.0142 - val_acc: 0.0000e+00\n",
      "Epoch 8/10\n",
      "496/496 [==============================] - 695s 1s/step - loss: 3532.4115 - acc: 0.0014 - val_loss: 4125.9573 - val_acc: 0.0000e+00\n",
      "Epoch 9/10\n",
      "496/496 [==============================] - 722s 1s/step - loss: 3184.7513 - acc: 0.0018 - val_loss: 4086.9346 - val_acc: 0.0150\n",
      "Epoch 10/10\n",
      "496/496 [==============================] - 701s 1s/step - loss: 2964.8759 - acc: 0.0021 - val_loss: 3958.5159 - val_acc: 0.0040\n",
      "Trained the model !!\n"
     ]
    }
   ],
   "source": [
    "#get data to pass through\n",
    "\n",
    "train_data_gen=train_gen_batch(20)\n",
    "valid_data_gen=val_gen_batch(20)\n",
    "\n",
    "mod_squeezNet.fit_generator(train_data_gen,validation_data= valid_data_gen, epochs=10, steps_per_epoch = int(len(img_files)/4-10), validation_steps = 50 )\n",
    "\n",
    "print(\"Trained the model !!\")"
   ]
  },
  {
   "cell_type": "code",
   "execution_count": null,
   "metadata": {
    "collapsed": true
   },
   "outputs": [],
   "source": [
    "The above structure showcase about training steps, process-time and epochs outputs.\n",
    "\n",
    "The Keras libraries provided the \"process time\",\"Loss\",\"Accuracy\" and \"samples processed in each epoch\"\n",
    "\n",
    "Use more samples and epochs to increase the acccuracy and to redcue the loss.\n",
    "\n",
    "Here, by seeing overall results I could say that model achieved with good precision (To measure model's performance).\n",
    "\n"
   ]
  }
 ],
 "metadata": {
  "kernelspec": {
   "display_name": "env_videos_ml_lib",
   "language": "python",
   "name": "env_videos_ml_lib"
  },
  "language_info": {
   "codemirror_mode": {
    "name": "ipython",
    "version": 3
   },
   "file_extension": ".py",
   "mimetype": "text/x-python",
   "name": "python",
   "nbconvert_exporter": "python",
   "pygments_lexer": "ipython3",
   "version": "3.5.2"
  }
 },
 "nbformat": 4,
 "nbformat_minor": 2
}
