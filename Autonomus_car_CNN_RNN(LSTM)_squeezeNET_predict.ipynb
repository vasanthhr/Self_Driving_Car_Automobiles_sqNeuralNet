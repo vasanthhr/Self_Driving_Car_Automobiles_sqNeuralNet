{
 "cells": [
  {
   "cell_type": "code",
   "execution_count": null,
   "metadata": {
    "collapsed": true
   },
   "outputs": [],
   "source": [
    "Predict the Driving angle by passing live frames/images.\n",
    "\n",
    "Assumption: Input Frames/Images would come from Dynamic Camera/Video processor\n",
    "            (Usually it would be attached in cars/automobiles coverage area.)"
   ]
  },
  {
   "cell_type": "code",
   "execution_count": 1,
   "metadata": {},
   "outputs": [
    {
     "name": "stderr",
     "output_type": "stream",
     "text": [
      "Using TensorFlow backend.\n"
     ]
    },
    {
     "name": "stdout",
     "output_type": "stream",
     "text": [
      "Red all the images!!! 2027\n"
     ]
    }
   ],
   "source": [
    "\n",
    "from  keras.models  import model_from_json\n",
    "import json\n",
    "import numpy as np\n",
    "import matplotlib.pyplot as plt\n",
    "\n",
    "from keras.optimizers import Adam\n",
    "\n",
    "%run Autonomus_car_dataset.ipynb "
   ]
  },
  {
   "cell_type": "code",
   "execution_count": 2,
   "metadata": {
    "collapsed": true
   },
   "outputs": [],
   "source": [
    "json_data=open(\"model/model_squeezNet.json\", \"r\").read()\n",
    "\n",
    "model= model_from_json(json_data)\n",
    "\n",
    "model.load_weights(\"model/model_squeezNet_weights.h5\")\n",
    "\n",
    "#we are not traning here so no need to below steps\n",
    "# model.compile(optimizer= Adam(lr=.0001), loss='mse')\n",
    "\n"
   ]
  },
  {
   "cell_type": "code",
   "execution_count": 35,
   "metadata": {},
   "outputs": [
    {
     "data": {
      "text/plain": [
       "array([[103.16771]], dtype=float32)"
      ]
     },
     "execution_count": 35,
     "metadata": {},
     "output_type": "execute_result"
    }
   ],
   "source": [
    "#make it four dimension as like traning data set.\n",
    "\n",
    "test_inpt= np.zeros((1, 196, 455,3 ))\n",
    "# test_inpt=\n",
    "img_test=plt.imread('driving_dataset/driving_dataset/Car_turning_slight_right.JPG')\n",
    "test_inpt[0]= remove_unwanted_portion( modify_img_brigthness(img_test) )\n",
    "# test_inpt= np.zeros((1, 196, 455,3 ))\n",
    "# test_inpt= np.array(test_inpt)\n",
    "# test_inpt=np.reshape(test_inpt,(1, 196, 455,3))\n",
    "model.predict(test_inpt)"
   ]
  },
  {
   "cell_type": "code",
   "execution_count": null,
   "metadata": {
    "collapsed": true
   },
   "outputs": [],
   "source": []
  },
  {
   "cell_type": "code",
   "execution_count": null,
   "metadata": {
    "collapsed": true
   },
   "outputs": [],
   "source": []
  }
 ],
 "metadata": {
  "kernelspec": {
   "display_name": "env_videos_ml_lib",
   "language": "python",
   "name": "env_videos_ml_lib"
  },
  "language_info": {
   "codemirror_mode": {
    "name": "ipython",
    "version": 3
   },
   "file_extension": ".py",
   "mimetype": "text/x-python",
   "name": "python",
   "nbconvert_exporter": "python",
   "pygments_lexer": "ipython3",
   "version": "3.5.2"
  }
 },
 "nbformat": 4,
 "nbformat_minor": 2
}
